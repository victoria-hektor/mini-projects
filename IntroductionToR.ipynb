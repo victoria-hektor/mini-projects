{
  "nbformat": 4,
  "nbformat_minor": 0,
  "metadata": {
    "colab": {
      "provenance": []
    },
    "kernelspec": {
      "name": "ir",
      "display_name": "R"
    },
    "language_info": {
      "name": "R"
    }
  },
  "cells": [
    {
      "cell_type": "markdown",
      "source": [
        "**Introduction to R**\n",
        "1. Basics of R:\n",
        "\n",
        "Environment: R can be used in the R console, RStudio (a popular IDE for R), or integrated into other software like Jupyter Notebooks.\n",
        "\n",
        "Syntax: R's syntax is quite expressive and allows for several ways to perform tasks. It uses functions extensively and has data types and structures optimised for statistical data analysis.\n",
        "\n",
        "2. Data Types and Structures:\n",
        "\n",
        "Vectors: Basic data structure in R, a single entity consisting of elements of the same type.\n",
        "\n",
        "Lists: Similar to Python's lists but can contain elements of different types.\n",
        "\n",
        "Data frames: Equivalent to Python's pandas DataFrame, they are used for storing data tables.\n",
        "\n",
        "3. Basic Operations:\n",
        "\n",
        "Arithmetic: Just like in Python, you can perform arithmetic operations using +, -, *, /.\n",
        "\n",
        "Functions: You can use built-in functions like mean(), sum(), min(), and max(), or define your own using the function() keyword.\n",
        "\n",
        "To use in Google Colab:\n",
        "\n",
        "1. Runtime Menu\n",
        "2. Change Runtime Type to R"
      ],
      "metadata": {
        "id": "pWNsZT_p8kTk"
      }
    },
    {
      "cell_type": "code",
      "execution_count": 1,
      "metadata": {
        "colab": {
          "base_uri": "https://localhost:8080/",
          "height": 52
        },
        "id": "B7JNmN3j8f48",
        "outputId": "26bc4ee6-f514-4ca2-a005-c6a74b8ba693"
      },
      "outputs": [
        {
          "output_type": "display_data",
          "data": {
            "text/html": [
              "3.6"
            ],
            "text/markdown": "3.6",
            "text/latex": "3.6",
            "text/plain": [
              "[1] 3.6"
            ]
          },
          "metadata": {}
        },
        {
          "output_type": "display_data",
          "data": {
            "text/html": [
              "<style>\n",
              ".list-inline {list-style: none; margin:0; padding: 0}\n",
              ".list-inline>li {display: inline-block}\n",
              ".list-inline>li:not(:last-child)::after {content: \"\\00b7\"; padding: 0 .5ex}\n",
              "</style>\n",
              "<ol class=list-inline><li>25</li><li>30</li><li>22</li></ol>\n"
            ],
            "text/markdown": "1. 25\n2. 30\n3. 22\n\n\n",
            "text/latex": "\\begin{enumerate*}\n\\item 25\n\\item 30\n\\item 22\n\\end{enumerate*}\n",
            "text/plain": [
              "[1] 25 30 22"
            ]
          },
          "metadata": {}
        }
      ],
      "source": [
        "### Example Code ###\n",
        "# Creating a vector\n",
        "data <- c(1, 2, 5, 4, 6)\n",
        "\n",
        "# Calculating mean\n",
        "mean(data)\n",
        "\n",
        "# Creating a data frame\n",
        "df <- data.frame(\n",
        "  Name = c(\"Alice\", \"Bob\", \"Cathy\"),\n",
        "  Age = c(25, 30, 22),\n",
        "  Salary = c(50000, 54000, 47000)\n",
        ")\n",
        "\n",
        "# Accessing data frame columns\n",
        "df$Age"
      ]
    }
  ]
}